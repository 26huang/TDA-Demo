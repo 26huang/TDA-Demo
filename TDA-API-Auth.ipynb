{
 "cells": [
  {
   "cell_type": "code",
   "execution_count": null,
   "id": "0e9331cf",
   "metadata": {},
   "outputs": [],
   "source": [
    "from urllib.parse import quote_plus\n",
    "import json\n",
    "import requests"
   ]
  },
  {
   "cell_type": "code",
   "execution_count": null,
   "id": "e0f8fd85",
   "metadata": {},
   "outputs": [],
   "source": [
    "def load_config(filename, key):\n",
    "    with open(filename, 'r') as f:\n",
    "        return json.load(f)[key]\n",
    "        \n",
    "def update_refresh_token(refresh_file, config_file):\n",
    "    token = load_config(refresh_file, 'refresh_token')\n",
    "    client_id = load_config(config_file, 'client_id')\n",
    "    endpoint = load_config(config_file, 'endpoint')\n",
    "\n",
    "    parameters = {\n",
    "        'grant_type': 'refresh_token',\n",
    "        'refresh_token': token,\n",
    "        'access_type': 'offline',\n",
    "        'code': '',\n",
    "        'client_id': client_id\n",
    "    }\n",
    "    response = requests.post(url=endpoint, data=parameters).json()\n",
    "    with open('./Data/refresh_token.json', 'w') as f:\n",
    "        json.dump(response, f)\n",
    "\n",
    "def update_access_token(refresh_file, config_file):\n",
    "    token = load_config(refresh_file, 'refresh_token')\n",
    "    client_id = load_config(config_file, 'client_id')\n",
    "    endpoint = load_config(config_file, 'endpoint')\n",
    "    \n",
    "    parameters = {\n",
    "        'grant_type': r'refresh_token',\n",
    "        'refresh_token': token,\n",
    "        'access_type': '',\n",
    "        'code': '',\n",
    "        'client_id': client_id\n",
    "    }\n",
    "    response = requests.post(url=endpoint, data=parameters).json()\n",
    "    with open('./Data/access_token.json', 'w') as f:\n",
    "        json.dump(response, f)"
   ]
  },
  {
   "cell_type": "code",
   "execution_count": null,
   "id": "34a095a3",
   "metadata": {},
   "outputs": [],
   "source": [
    "config_file = './Data/config.json'\n",
    "refresh_file = './Data/refresh_token.json'"
   ]
  },
  {
   "cell_type": "code",
   "execution_count": null,
   "id": "3b2c739b",
   "metadata": {},
   "outputs": [],
   "source": [
    "update_refresh_token(refresh_file, config_file)"
   ]
  },
  {
   "cell_type": "code",
   "execution_count": null,
   "id": "b9b97068",
   "metadata": {},
   "outputs": [],
   "source": [
    "update_access_token(refresh_file, config_file)"
   ]
  },
  {
   "cell_type": "code",
   "execution_count": null,
   "id": "58a9bd0f",
   "metadata": {},
   "outputs": [],
   "source": []
  }
 ],
 "metadata": {
  "kernelspec": {
   "display_name": "Python 3",
   "language": "python",
   "name": "python3"
  },
  "language_info": {
   "codemirror_mode": {
    "name": "ipython",
    "version": 3
   },
   "file_extension": ".py",
   "mimetype": "text/x-python",
   "name": "python",
   "nbconvert_exporter": "python",
   "pygments_lexer": "ipython3",
   "version": "3.8.8"
  }
 },
 "nbformat": 4,
 "nbformat_minor": 5
}
