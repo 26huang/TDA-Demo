{
 "cells": [
  {
   "cell_type": "code",
   "execution_count": 15,
   "id": "6535cc2e",
   "metadata": {},
   "outputs": [],
   "source": [
    "import json\n",
    "import requests\n",
    "import datetime"
   ]
  },
  {
   "cell_type": "code",
   "execution_count": 64,
   "id": "470fb285",
   "metadata": {},
   "outputs": [],
   "source": [
    "def load_config(filename, key):\n",
    "    with open(filename, 'r') as f:\n",
    "        return json.load(f)[key]\n",
    "        \n",
    "def update_refresh_token(refresh_file, config_file):\n",
    "    token = load_config(refresh_file, 'refresh_token')\n",
    "    client_id = load_config(config_file, 'client_id')\n",
    "    endpoint = load_config(config_file, 'endpoint')\n",
    "\n",
    "    parameters = {\n",
    "        'grant_type': 'refresh_token',\n",
    "        'refresh_token': token,\n",
    "        'access_type': 'offline',\n",
    "        'code': '',\n",
    "        'client_id': client_id\n",
    "    }\n",
    "    response = requests.post(url=endpoint, data=parameters).json()\n",
    "    response['expiration_time'] = (datetime.datetime.now()+datetime.timedelta(seconds=response['refresh_token_expires_in'])).strftime('%Y%m%d_%H:%M:%S')\n",
    "    with open('./Data/refresh_token.json', 'w') as f:\n",
    "        json.dump(response, f)\n",
    "\n",
    "def update_access_token(refresh_file, config_file):\n",
    "    token = load_config(refresh_file, 'refresh_token')\n",
    "    client_id = load_config(config_file, 'client_id')\n",
    "    endpoint = load_config(config_file, 'endpoint')\n",
    "    \n",
    "    parameters = {\n",
    "        'grant_type': r'refresh_token',\n",
    "        'refresh_token': token,\n",
    "        'access_type': '',\n",
    "        'code': '',\n",
    "        'client_id': client_id\n",
    "    }\n",
    "    response = requests.post(url=endpoint, data=parameters).json()\n",
    "    response['expiration_time'] = (datetime.datetime.now()+datetime.timedelta(seconds=response['expires_in'])).strftime('%Y%m%d_%H:%M:%S')\n",
    "    with open('./Data/access_token.json', 'w') as f:\n",
    "        json.dump(response, f)\n",
    "\n",
    "def update_token(refresh_file, access_file, config_file):\n",
    "    refresh_expiration = load_config(refresh_file, 'expiration_time')\n",
    "    access_expiration = load_config(access_file, 'expiration_time')\n",
    "    refresh_expires = datetime.datetime.strptime(refresh_expiration, '%Y%m%d_%H:%M:%S')-datetime.datetime.now()\n",
    "    access_expires = datetime.datetime.strptime(access_expiration, '%Y%m%d_%H:%M:%S')-datetime.datetime.now()\n",
    "    \n",
    "    if refresh_expires < datetime.timedelta(seconds=604800):\n",
    "        update_refresh_token(refresh_file, config_file)\n",
    "        print('Refresh token updated.')\n",
    "    if access_expires < datetime.timedelta(seconds=360):   \n",
    "        update_access_token(refresh_file, config_file)\n",
    "        print('Access token updated.')\n",
    "    else:\n",
    "        print(\"Tokens are still active. Refresh expires in {}. Access expires in: {}\".format(refresh_expires, access_expires))"
   ]
  },
  {
   "cell_type": "code",
   "execution_count": 65,
   "id": "d6c97cb2",
   "metadata": {},
   "outputs": [],
   "source": [
    "config_file = './Data/config.json'\n",
    "refresh_file = './Data/refresh_token.json'\n",
    "access_file = './Data/access_token.json'"
   ]
  },
  {
   "cell_type": "code",
   "execution_count": 69,
   "id": "582bc887",
   "metadata": {},
   "outputs": [
    {
     "name": "stdout",
     "output_type": "stream",
     "text": [
      "Tokens are still active. Refresh expires in 89 days, 23:59:25.948944. Access expires in: 0:29:25.948923\n"
     ]
    }
   ],
   "source": [
    "update_token(refresh_file, access_file, config_file)"
   ]
  },
  {
   "cell_type": "code",
   "execution_count": 55,
   "id": "073b36fb",
   "metadata": {},
   "outputs": [
    {
     "data": {
      "text/plain": [
       "True"
      ]
     },
     "execution_count": 55,
     "metadata": {},
     "output_type": "execute_result"
    }
   ],
   "source": []
  },
  {
   "cell_type": "code",
   "execution_count": 44,
   "id": "7ac54fa4",
   "metadata": {},
   "outputs": [
    {
     "data": {
      "text/plain": [
       "datetime.datetime(2021, 7, 31, 14, 13, 32)"
      ]
     },
     "execution_count": 44,
     "metadata": {},
     "output_type": "execute_result"
    }
   ],
   "source": []
  },
  {
   "cell_type": "code",
   "execution_count": 33,
   "id": "1f136a33",
   "metadata": {},
   "outputs": [
    {
     "data": {
      "text/plain": [
       "'2021051619980680_14:38:00'"
      ]
     },
     "execution_count": 33,
     "metadata": {},
     "output_type": "execute_result"
    }
   ],
   "source": [
    "access_expiration"
   ]
  },
  {
   "cell_type": "code",
   "execution_count": 61,
   "id": "f346eb19",
   "metadata": {},
   "outputs": [
    {
     "data": {
      "text/plain": [
       "604800"
      ]
     },
     "execution_count": 61,
     "metadata": {},
     "output_type": "execute_result"
    }
   ],
   "source": [
    "7*24*3600"
   ]
  },
  {
   "cell_type": "code",
   "execution_count": null,
   "id": "aa318744",
   "metadata": {},
   "outputs": [],
   "source": []
  },
  {
   "cell_type": "code",
   "execution_count": null,
   "id": "60657f39",
   "metadata": {},
   "outputs": [],
   "source": []
  },
  {
   "cell_type": "code",
   "execution_count": 35,
   "id": "4e4b5dfd",
   "metadata": {},
   "outputs": [],
   "source": []
  },
  {
   "cell_type": "code",
   "execution_count": 36,
   "id": "2cae5217",
   "metadata": {},
   "outputs": [],
   "source": []
  },
  {
   "cell_type": "code",
   "execution_count": null,
   "id": "b2dd4097",
   "metadata": {},
   "outputs": [],
   "source": []
  },
  {
   "cell_type": "code",
   "execution_count": null,
   "id": "6f086b4c",
   "metadata": {},
   "outputs": [],
   "source": []
  },
  {
   "cell_type": "code",
   "execution_count": null,
   "id": "97e5de77",
   "metadata": {},
   "outputs": [],
   "source": []
  },
  {
   "cell_type": "code",
   "execution_count": null,
   "id": "f865bad1",
   "metadata": {},
   "outputs": [],
   "source": []
  },
  {
   "cell_type": "code",
   "execution_count": null,
   "id": "58a9bd0f",
   "metadata": {},
   "outputs": [],
   "source": [
    "import pandas as pd"
   ]
  },
  {
   "cell_type": "code",
   "execution_count": null,
   "id": "0f2f630e",
   "metadata": {},
   "outputs": [],
   "source": [
    "testfile = './Data/test.json'"
   ]
  },
  {
   "cell_type": "code",
   "execution_count": null,
   "id": "6ac54246",
   "metadata": {},
   "outputs": [],
   "source": [
    "load_config(testfile, key='access_token')"
   ]
  },
  {
   "cell_type": "code",
   "execution_count": null,
   "id": "9bc1615a",
   "metadata": {},
   "outputs": [],
   "source": [
    "test = pd.read_json(access_file, lines=True)"
   ]
  },
  {
   "cell_type": "code",
   "execution_count": null,
   "id": "cae2f763",
   "metadata": {},
   "outputs": [],
   "source": []
  },
  {
   "cell_type": "code",
   "execution_count": null,
   "id": "52edd573",
   "metadata": {},
   "outputs": [],
   "source": [
    "a = test.to_json(orient='records')[1:-1].replace('\\\\', '')"
   ]
  },
  {
   "cell_type": "code",
   "execution_count": null,
   "id": "a82d579d",
   "metadata": {},
   "outputs": [],
   "source": [
    "with open('./Data/test.json', 'w') as f:\n",
    "    f.write(a)"
   ]
  },
  {
   "cell_type": "code",
   "execution_count": null,
   "id": "ff08ef70",
   "metadata": {},
   "outputs": [],
   "source": [
    "token = load_config(refresh_file, 'refresh_token')\n",
    "client_id = load_config(config_file, 'client_id')\n",
    "endpoint = load_config(config_file, 'endpoint')\n",
    "\n",
    "parameters = {\n",
    "    'grant_type': r'refresh_token',\n",
    "    'refresh_token': token,\n",
    "    'access_type': '',\n",
    "    'code': '',\n",
    "    'client_id': client_id\n",
    "}\n",
    "response = requests.post(url=endpoint, data=parameters).json()\n",
    "# with open('./Data/access_token.json', 'w') as f:\n",
    "#     json.dump(response, f)"
   ]
  },
  {
   "cell_type": "code",
   "execution_count": null,
   "id": "2466987b",
   "metadata": {},
   "outputs": [],
   "source": [
    "import datetime"
   ]
  },
  {
   "cell_type": "code",
   "execution_count": null,
   "id": "8cf3e676",
   "metadata": {},
   "outputs": [],
   "source": [
    "(datetime.datetime.now()+datetime.timedelta(seconds=response['expires_in'])).strftime('%Y%m%s_%H:%M:%S')"
   ]
  },
  {
   "cell_type": "code",
   "execution_count": null,
   "id": "bdf397c9",
   "metadata": {},
   "outputs": [],
   "source": [
    "datetime.datetime.now()"
   ]
  },
  {
   "cell_type": "code",
   "execution_count": null,
   "id": "b11be1a1",
   "metadata": {},
   "outputs": [],
   "source": [
    "response['expires_in']"
   ]
  },
  {
   "cell_type": "code",
   "execution_count": null,
   "id": "3ea27fc1",
   "metadata": {},
   "outputs": [],
   "source": [
    "datetime.timedelta(response['expires_in'])"
   ]
  },
  {
   "cell_type": "code",
   "execution_count": null,
   "id": "5b112089",
   "metadata": {},
   "outputs": [],
   "source": [
    "response"
   ]
  },
  {
   "cell_type": "code",
   "execution_count": null,
   "id": "8318e4f6",
   "metadata": {},
   "outputs": [],
   "source": []
  }
 ],
 "metadata": {
  "kernelspec": {
   "display_name": "Python 3",
   "language": "python",
   "name": "python3"
  },
  "language_info": {
   "codemirror_mode": {
    "name": "ipython",
    "version": 3
   },
   "file_extension": ".py",
   "mimetype": "text/x-python",
   "name": "python",
   "nbconvert_exporter": "python",
   "pygments_lexer": "ipython3",
   "version": "3.8.8"
  }
 },
 "nbformat": 4,
 "nbformat_minor": 5
}
