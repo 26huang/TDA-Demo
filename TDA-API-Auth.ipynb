{
 "cells": [
  {
   "cell_type": "code",
   "execution_count": 1,
   "id": "6535cc2e",
   "metadata": {},
   "outputs": [],
   "source": [
    "import json\n",
    "import requests\n",
    "import datetime"
   ]
  },
  {
   "cell_type": "code",
   "execution_count": 2,
   "id": "470fb285",
   "metadata": {},
   "outputs": [],
   "source": [
    "def load_config(filename, key):\n",
    "    with open(filename, 'r') as f:\n",
    "        return json.load(f)[key]\n",
    "        \n",
    "def update_refresh_token(refresh_file, config_file):\n",
    "    token = load_config(refresh_file, 'refresh_token')\n",
    "    client_id = load_config(config_file, 'client_id')\n",
    "    endpoint = load_config(config_file, 'endpoint')\n",
    "\n",
    "    parameters = {\n",
    "        'grant_type': 'refresh_token',\n",
    "        'refresh_token': token,\n",
    "        'access_type': 'offline',\n",
    "        'code': '',\n",
    "        'client_id': client_id\n",
    "    }\n",
    "    response = requests.post(url=endpoint, data=parameters).json()\n",
    "    response['expiration_time'] = (datetime.datetime.now()+datetime.timedelta(seconds=response['refresh_token_expires_in'])).strftime('%Y%m%d_%H:%M:%S')\n",
    "    with open('./Data/refresh_token.json', 'w') as f:\n",
    "        json.dump(response, f)\n",
    "\n",
    "def update_access_token(refresh_file, config_file):\n",
    "    token = load_config(refresh_file, 'refresh_token')\n",
    "    client_id = load_config(config_file, 'client_id')\n",
    "    endpoint = load_config(config_file, 'endpoint')\n",
    "    \n",
    "    parameters = {\n",
    "        'grant_type': r'refresh_token',\n",
    "        'refresh_token': token,\n",
    "        'access_type': '',\n",
    "        'code': '',\n",
    "        'client_id': client_id\n",
    "    }\n",
    "    response = requests.post(url=endpoint, data=parameters).json()\n",
    "    response['expiration_time'] = (datetime.datetime.now()+datetime.timedelta(seconds=response['expires_in'])).strftime('%Y%m%d_%H:%M:%S')\n",
    "    with open('./Data/access_token.json', 'w') as f:\n",
    "        json.dump(response, f)\n",
    "\n",
    "def update_token(refresh_file, access_file, config_file):\n",
    "    refresh_expiration = load_config(refresh_file, 'expiration_time')\n",
    "    access_expiration = load_config(access_file, 'expiration_time')\n",
    "    refresh_expires = datetime.datetime.strptime(refresh_expiration, '%Y%m%d_%H:%M:%S')-datetime.datetime.now()\n",
    "    access_expires = datetime.datetime.strptime(access_expiration, '%Y%m%d_%H:%M:%S')-datetime.datetime.now()\n",
    "    \n",
    "    if refresh_expires < datetime.timedelta(seconds=604800):\n",
    "        update_refresh_token(refresh_file, config_file)\n",
    "        print('Refresh token updated.')\n",
    "    if access_expires < datetime.timedelta(seconds=360):   \n",
    "        update_access_token(refresh_file, config_file)\n",
    "        print('Access token updated.')\n",
    "    else:\n",
    "        print(\"Tokens are still active. Refresh expires in {}. Access expires in: {}\".format(refresh_expires, access_expires))"
   ]
  },
  {
   "cell_type": "code",
   "execution_count": 3,
   "id": "d6c97cb2",
   "metadata": {},
   "outputs": [],
   "source": [
    "config_file = './Data/config.json'\n",
    "refresh_file = './Data/refresh_token.json'\n",
    "access_file = './Data/access_token.json'"
   ]
  },
  {
   "cell_type": "code",
   "execution_count": 4,
   "id": "860ea2e0",
   "metadata": {},
   "outputs": [
    {
     "name": "stdout",
     "output_type": "stream",
     "text": [
      "Tokens are still active. Refresh expires in 89 days, 23:58:22.270975. Access expires in: 0:28:22.270950\n"
     ]
    }
   ],
   "source": [
    "update_token(refresh_file, access_file, config_file)"
   ]
  },
  {
   "cell_type": "code",
   "execution_count": null,
   "id": "e41a3d58",
   "metadata": {},
   "outputs": [],
   "source": []
  }
 ],
 "metadata": {
  "kernelspec": {
   "display_name": "Python 3",
   "language": "python",
   "name": "python3"
  },
  "language_info": {
   "codemirror_mode": {
    "name": "ipython",
    "version": 3
   },
   "file_extension": ".py",
   "mimetype": "text/x-python",
   "name": "python",
   "nbconvert_exporter": "python",
   "pygments_lexer": "ipython3",
   "version": "3.8.8"
  }
 },
 "nbformat": 4,
 "nbformat_minor": 5
}
