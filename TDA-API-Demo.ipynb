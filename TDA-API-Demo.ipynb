{
 "cells": [
  {
   "cell_type": "markdown",
   "id": "398accce",
   "metadata": {},
   "source": [
    "# Setup TDA API access"
   ]
  },
  {
   "cell_type": "code",
   "execution_count": null,
   "id": "6535cc2e",
   "metadata": {},
   "outputs": [],
   "source": [
    "import json\n",
    "import requests\n",
    "import datetime"
   ]
  },
  {
   "cell_type": "code",
   "execution_count": null,
   "id": "470fb285",
   "metadata": {},
   "outputs": [],
   "source": [
    "def load_config(filename, key):\n",
    "    with open(filename, 'r') as f:\n",
    "        return json.load(f)[key]\n",
    "        \n",
    "def update_refresh_token(refresh_file, config_file):\n",
    "    token = load_config(refresh_file, 'refresh_token')\n",
    "    client_id = load_config(config_file, 'client_id')\n",
    "    endpoint = load_config(config_file, 'endpoint_auth')\n",
    "\n",
    "    parameters = {\n",
    "        'grant_type': 'refresh_token',\n",
    "        'refresh_token': token,\n",
    "        'access_type': 'offline',\n",
    "        'code': '',\n",
    "        'client_id': client_id\n",
    "    }\n",
    "    response = requests.post(url=endpoint, data=parameters).json()\n",
    "    response['expiration_time'] = (datetime.datetime.now()+datetime.timedelta(seconds=response['refresh_token_expires_in'])).strftime('%Y%m%d_%H:%M:%S')\n",
    "    with open('./Data/refresh_token.json', 'w') as f:\n",
    "        json.dump(response, f)\n",
    "\n",
    "def update_access_token(refresh_file, config_file):\n",
    "    token = load_config(refresh_file, 'refresh_token')\n",
    "    client_id = load_config(config_file, 'client_id')\n",
    "    endpoint = load_config(config_file, 'endpoint_auth')\n",
    "    \n",
    "    parameters = {\n",
    "        'grant_type': r'refresh_token',\n",
    "        'refresh_token': token,\n",
    "        'access_type': '',\n",
    "        'code': '',\n",
    "        'client_id': client_id\n",
    "    }\n",
    "    response = requests.post(url=endpoint, data=parameters).json()\n",
    "    response['expiration_time'] = (datetime.datetime.now()+datetime.timedelta(seconds=response['expires_in'])).strftime('%Y%m%d_%H:%M:%S')\n",
    "    with open('./Data/access_token.json', 'w') as f:\n",
    "        json.dump(response, f)\n",
    "\n",
    "def update_token(refresh_file, access_file, config_file):\n",
    "    refresh_expiration = load_config(refresh_file, 'expiration_time')\n",
    "    access_expiration = load_config(access_file, 'expiration_time')\n",
    "    refresh_expires = datetime.datetime.strptime(refresh_expiration, '%Y%m%d_%H:%M:%S')-datetime.datetime.now()\n",
    "    access_expires = datetime.datetime.strptime(access_expiration, '%Y%m%d_%H:%M:%S')-datetime.datetime.now()\n",
    "    \n",
    "    if refresh_expires < datetime.timedelta(seconds=604800):\n",
    "        update_refresh_token(refresh_file, config_file)\n",
    "        print('Refresh token updated.')\n",
    "    if access_expires < datetime.timedelta(seconds=360):   \n",
    "        update_access_token(refresh_file, config_file)\n",
    "        print('Access token updated.')\n",
    "    else:\n",
    "        print(\"Tokens are still active. Refresh expires in {}. Access expires in: {}\".format(refresh_expires, access_expires))"
   ]
  },
  {
   "cell_type": "code",
   "execution_count": null,
   "id": "d6c97cb2",
   "metadata": {},
   "outputs": [],
   "source": [
    "config_file = './Data/config.json'\n",
    "refresh_file = './Data/refresh_token.json'\n",
    "access_file = './Data/access_token.json'"
   ]
  },
  {
   "cell_type": "code",
   "execution_count": null,
   "id": "2dd017eb",
   "metadata": {},
   "outputs": [],
   "source": [
    "update_token(refresh_file, access_file, config_file)"
   ]
  },
  {
   "cell_type": "markdown",
   "id": "f6b6d6bb",
   "metadata": {},
   "source": [
    "# Query using TDA API"
   ]
  },
  {
   "cell_type": "code",
   "execution_count": null,
   "id": "920a8ee2",
   "metadata": {},
   "outputs": [],
   "source": [
    "def get_account(refresh_file, access_file, config_file, save=0):\n",
    "    update_token(refresh_file, access_file, config_file)\n",
    "    access_token = load_config(access_file, key='access_token')\n",
    "    account_number = load_config(config_file, key='account_number')\n",
    "    endpoint = load_config(config_file, key='endpoint_account').format(account_number)\n",
    "    payload = {\n",
    "        'Authorization': r'Bearer {}'.format(access_token)\n",
    "    }\n",
    "    response = requests.get(url=endpoint, headers=payload).json()\n",
    "    if save:\n",
    "        time_stamp = str(datetime.date.today())\n",
    "        with open('./Data/account_summary_{}.json'.format(time_stamp), 'w') as account_data:\n",
    "            json.dump(response, account_data)\n",
    "    return response"
   ]
  },
  {
   "cell_type": "code",
   "execution_count": null,
   "id": "7426718c",
   "metadata": {},
   "outputs": [],
   "source": [
    "get_account(refresh_file, access_file, config_file, save=1)"
   ]
  },
  {
   "cell_type": "code",
   "execution_count": null,
   "id": "e547366e",
   "metadata": {},
   "outputs": [],
   "source": [
    "def get_transactions(refresh_file, access_file, config_file, start_date, end_date, save=0):\n",
    "    \"\"\"\n",
    "    format: <yyyy-MM-dd>\n",
    "    \"\"\"\n",
    "    update_token(refresh_file, access_file, config_file)\n",
    "    access_token = load_config(access_file, key='access_token')\n",
    "    account_number = load_config(config_file, key='account_number')\n",
    "    endpoint = load_config(config_file, key='endpoint_transaction').format(account_number)\n",
    "\n",
    "    payload = {\n",
    "               'Authorization': r'Bearer {}'.format(access_token)\n",
    "    }\n",
    "    parameters = {\n",
    "        'type': 'ALL',\n",
    "        'startDate': start_date,\n",
    "        'endDate': end_date\n",
    "    }\n",
    "    response = requests.get(url=endpoint, headers=payload, params=parameters).json()\n",
    "    if save:\n",
    "        with open('./Data/{}_{}_transactions.json'.format(start_date, end_date), 'w') as transaction_data:\n",
    "            json.dump(response, transaction_data)\n",
    "    return response "
   ]
  },
  {
   "cell_type": "code",
   "execution_count": null,
   "id": "4c1b9985",
   "metadata": {},
   "outputs": [],
   "source": [
    "get_transactions(refresh_file, access_file, config_file, '2021-01-01', '2021-05-01', save=1)"
   ]
  },
  {
   "cell_type": "markdown",
   "id": "178d0fd4",
   "metadata": {},
   "source": [
    "# Place Order Example"
   ]
  },
  {
   "cell_type": "code",
   "execution_count": null,
   "id": "b7e48640",
   "metadata": {},
   "outputs": [],
   "source": [
    "def create_order(category='stock', strategy='buy'):\n",
    "    if category=='stock':\n",
    "        order = {\n",
    "            \"orderType\": \"MARKET\",\n",
    "            \"session\": \"NORMAL\",\n",
    "            \"duration\": \"DAY\",\n",
    "            \"orderStrategyType\": \"SINGLE\",\n",
    "            \"orderLegCollection\": [\n",
    "                {\n",
    "                    \"instruction\": \"Buy\",\n",
    "                    \"quantity\": 15,\n",
    "                    \"instrument\": {\n",
    "                        \"symbol\": \"AMD\",\n",
    "                        \"assetType\": \"EQUITY\"\n",
    "                    }\n",
    "                }\n",
    "            ]\n",
    "        }\n",
    "    elif category=='option':\n",
    "        order = {\n",
    "            \"complexOrderStrategyType\": \"NONE\",\n",
    "            \"orderType\": \"LIMIT\",\n",
    "            \"session\": \"NORMAL\",\n",
    "            \"price\": \"1.45\",\n",
    "            \"duration\": \"DAY\",\n",
    "            \"orderStrategyType\": \"SINGLE\",\n",
    "            \"orderLegCollection\": [\n",
    "                {\n",
    "                    \"instruction\": \"SELL_TO_OPEN\",\n",
    "                    \"quantity\": 1,\n",
    "                    \"instrument\": {\n",
    "                        \"symbol\": \"PLTR_061821P22\",\n",
    "                        \"assetType\": \"OPTION\"\n",
    "                    }\n",
    "                }\n",
    "            ]\n",
    "        }\n",
    "    return order \n",
    "\n",
    "def place_order(refresh_file, access_file, config_file, order):\n",
    "    update_token(refresh_file, access_file, config_file)\n",
    "    access_token = load_config(access_file, key='access_token')\n",
    "    account_number = load_config(config_file, key='account_number')\n",
    "\n",
    "    endpoint = load_config(config_file, key='endpoint_orders').format(account_number)\n",
    "    payload = {'Authorization': r'Bearer {}'.format(access_token)}\n",
    "    \n",
    "    parameters = order\n",
    "    \n",
    "    response = requests.post(url=endpoint, headers=payload, json=parameters)\n",
    "    return response"
   ]
  },
  {
   "cell_type": "code",
   "execution_count": null,
   "id": "513c581b",
   "metadata": {},
   "outputs": [],
   "source": [
    "order = create_order('option')"
   ]
  },
  {
   "cell_type": "code",
   "execution_count": null,
   "id": "79412209",
   "metadata": {},
   "outputs": [],
   "source": [
    "place_order(refresh_file, access_file, config_file, order)"
   ]
  },
  {
   "cell_type": "markdown",
   "id": "d16f0829",
   "metadata": {},
   "source": [
    "# Cancel Order by Order ID"
   ]
  },
  {
   "cell_type": "code",
   "execution_count": null,
   "id": "0a3c6f8d",
   "metadata": {},
   "outputs": [],
   "source": [
    "def get_order_id(refresh_file, access_file, config_file, order_date, save=0):\n",
    "    \"\"\"\n",
    "    format: <yyyy-MM-dd>\n",
    "    \"\"\"\n",
    "    update_token(refresh_file, access_file, config_file)\n",
    "    access_token = load_config(access_file, key='access_token')\n",
    "    account_number = load_config(config_file, key='account_number')\n",
    "    endpoint = load_config(config_file, key='endpoint_orders').format(account_number)\n",
    "\n",
    "    payload = {\n",
    "               'Authorization': r'Bearer {}'.format(access_token)\n",
    "    }\n",
    "    parameters = {\n",
    "        \"maxResults\": 1,\n",
    "        \"fromEnteredTime\": order_date,\n",
    "        \"toEnteredTime\": order_date,\n",
    "        \"status\": \"WORKING\"\n",
    "    }\n",
    "    response = requests.get(url=endpoint, headers=payload, params=parameters).json()[0]\n",
    "    if save:\n",
    "        with open('./Data/working_orders.json'.format(order_date), 'w') as working_data:\n",
    "            json.dump(response, working_data)\n",
    "    return response['orderId']\n",
    "\n",
    "def cancel_order(refresh_file, access_file, config_file, order_id):\n",
    "    update_token(refresh_file, access_file, config_file)\n",
    "    access_token = load_config(access_file, key='access_token')\n",
    "    account_number = load_config(config_file, key='account_number')\n",
    "    endpoint = load_config(config_file, key='endpoint_cancel_order').format(account_number, order_id)\n",
    "\n",
    "    payload = {'Authorization': r'Bearer {}'.format(access_token)}\n",
    "    \n",
    "    response = requests.delete(url=endpoint, headers=payload)\n",
    "    return response\n"
   ]
  },
  {
   "cell_type": "code",
   "execution_count": null,
   "id": "8cc3cc64",
   "metadata": {
    "scrolled": true
   },
   "outputs": [],
   "source": [
    "order_id = get_order_id(refresh_file, access_file, config_file, '2021-05-02')\n",
    "cancel_order(refresh_file, access_file, config_file, order_id)"
   ]
  },
  {
   "cell_type": "code",
   "execution_count": null,
   "id": "ab2c05ce",
   "metadata": {},
   "outputs": [],
   "source": []
  }
 ],
 "metadata": {
  "kernelspec": {
   "display_name": "Python 3",
   "language": "python",
   "name": "python3"
  },
  "language_info": {
   "codemirror_mode": {
    "name": "ipython",
    "version": 3
   },
   "file_extension": ".py",
   "mimetype": "text/x-python",
   "name": "python",
   "nbconvert_exporter": "python",
   "pygments_lexer": "ipython3",
   "version": "3.8.8"
  }
 },
 "nbformat": 4,
 "nbformat_minor": 5
}
